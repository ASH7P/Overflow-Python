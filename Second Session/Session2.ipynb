{
 "cells": [
  {
   "cell_type": "markdown",
   "metadata": {},
   "source": [
    "# Welcome, Students!\n",
    "\n",
    "Today, we're going to dive into an exciting topic: **consuming public APIs**! 🎉  \n",
    "APIs (Application Programming Interfaces) allow us to access data from various sources online, which can make our applications more dynamic and interactive.\n",
    "\n",
    "We'll start by importing the `requests` library, which is essential for interacting with APIs. After that, we'll use it to demonstrate how to retrieve data from two example APIs.\n",
    "\n",
    "---\n",
    "\n",
    "## Step 1: Import the `requests` Library\n",
    "\n",
    "Let's begin by importing the `requests` library, which we'll use to send HTTP requests to APIs."
   ]
  },
  {
   "cell_type": "markdown",
   "metadata": {},
   "source": [
    "```python\n",
    "import the requests library"
   ]
  },
  {
   "cell_type": "code",
   "execution_count": 5,
   "metadata": {},
   "outputs": [],
   "source": [
    "import requests"
   ]
  },
  {
   "cell_type": "markdown",
   "metadata": {},
   "source": [
    "## Step 2: Using Public APIs\n",
    "\n",
    "Here are two APIs we'll explore today:\n",
    "\n",
    "1. **Lyrics API**: [https://api.lyrics.ovh/v1/](https://api.lyrics.ovh/v1/)  \n",
    "   - This API allows you to retrieve song lyrics by providing the artist's name and the song title.\n",
    "\n",
    "2. **Currecny Exchange API**: [https://frankfurter.dev/](https://frankfurter.dev/) \n",
    "   - This API provides detailed Currency rates based on up-to-date data.\n",
    "\n",
    "Let's look at how we can use the `requests` library to interact with these APIs."
   ]
  },
  {
   "cell_type": "markdown",
   "metadata": {},
   "source": [
    "## Fetching Song Lyrics"
   ]
  },
  {
   "cell_type": "markdown",
   "metadata": {},
   "source": [
    "```python\n",
    "Set up the artist and song title for the Lyrics API"
   ]
  },
  {
   "cell_type": "code",
   "execution_count": 6,
   "metadata": {},
   "outputs": [],
   "source": [
    "artist = \"Adele\"\n",
    "song = \"Hello\"\n",
    "url = f\"https://api.lyrics.ovh/v1/{artist}/{song}\""
   ]
  },
  {
   "cell_type": "markdown",
   "metadata": {},
   "source": [
    "```python\n",
    "Send a request to the API\n"
   ]
  },
  {
   "cell_type": "code",
   "execution_count": 7,
   "metadata": {},
   "outputs": [],
   "source": [
    "response = requests.get(url)"
   ]
  },
  {
   "cell_type": "markdown",
   "metadata": {},
   "source": [
    "```python\n",
    "Check if the request was successful"
   ]
  },
  {
   "cell_type": "code",
   "execution_count": 8,
   "metadata": {},
   "outputs": [
    {
     "name": "stdout",
     "output_type": "stream",
     "text": [
      "Lyrics:\n",
      " Hello, it's me\n",
      "I was wondering if after all these years you'd like to meet\n",
      "To go over everything\n",
      "They say that time's supposed to heal ya\n",
      "But I ain't done much healing\n",
      "\n",
      "Hello, can you hear me?\n",
      "\n",
      "I'm in California dreaming about who we used to be\n",
      "\n",
      "When we were younger and free\n",
      "\n",
      "I've forgotten how it felt before the world fell at our feet\n",
      "\n",
      "\n",
      "\n",
      "There's such a difference between us\n",
      "\n",
      "And a million miles\n",
      "\n",
      "\n",
      "\n",
      "Hello from the other side\n",
      "\n",
      "I must've called a thousand times \n",
      "\n",
      "To tell you I'm sorry\n",
      "\n",
      "For everything that I've done\n",
      "\n",
      "But when I call you never \n",
      "\n",
      "Seem to be home\n",
      "\n",
      "\n",
      "\n",
      "Hello from the outside\n",
      "\n",
      "At least I can say that I've tried \n",
      "\n",
      "To tell you I'm sorry\n",
      "\n",
      "For breaking your heart\n",
      "\n",
      "But it don't matter, it clearly \n",
      "\n",
      "Doesn't tear you apart anymore\n",
      "\n",
      "\n",
      "\n",
      "Hello, how are you?\n",
      "\n",
      "It's so typical of me to talk about myself, I'm sorry \n",
      "\n",
      "I hope that you're well\n",
      "\n",
      "Did you ever make it out of that town\n",
      "\n",
      "Where nothing ever happened?\n",
      "\n",
      "\n",
      "\n",
      "It's no secret\n",
      "\n",
      "That the both of us \n",
      "\n",
      "Are running out of time\n",
      "\n",
      "\n",
      "\n",
      "So hello from the other side (other side)\n",
      "\n",
      "I must've called a thousand times (thousand times)\n",
      "\n",
      "To tell you I'm sorry\n",
      "\n",
      "For everything that I've done\n",
      "\n",
      "But when I call you never \n",
      "\n",
      "Seem to be home\n",
      "\n",
      "\n",
      "\n",
      "Hello from the outside (outside)\n",
      "\n",
      "At least I can say that I've tried (I've tried)\n",
      "\n",
      "To tell you I'm sorry\n",
      "\n",
      "For breaking your heart\n",
      "\n",
      "But it don't matter, it clearly \n",
      "\n",
      "Doesn't tear you apart anymore\n",
      "\n",
      "\n",
      "\n",
      "Ooooohh, anymore\n",
      "\n",
      "Ooooohh, anymore\n",
      "\n",
      "Ooooohh, anymore\n",
      "\n",
      "Anymore\n",
      "\n",
      "\n",
      "\n",
      "Hello from the other side (other side)\n",
      "\n",
      "I must've called a thousand times (thousand times)\n",
      "\n",
      "To tell you I'm sorry\n",
      "\n",
      "For everything that I've done\n",
      "\n",
      "But when I call you never \n",
      "\n",
      "Seem to be home\n",
      "\n",
      "\n",
      "\n",
      "Hello from the outside (outside)\n",
      "\n",
      "At least I can say that I've tried (I've tried)\n",
      "\n",
      "To tell you I'm sorry\n",
      "\n",
      "For breaking your heart\n",
      "\n",
      "But it don't matter, it clearly \n",
      "\n",
      "Doesn't tear you apart anymore\n"
     ]
    }
   ],
   "source": [
    "if response.status_code == 200:\n",
    "    lyrics = response.json().get(\"lyrics\", \"Lyrics not found.\")\n",
    "    print(\"Lyrics:\\n\", lyrics)\n",
    "else:\n",
    "    print(\"Failed to retrieve lyrics:\", response.status_code)"
   ]
  },
  {
   "cell_type": "code",
   "execution_count": 9,
   "metadata": {},
   "outputs": [
    {
     "data": {
      "text/plain": [
       "b'{\"lyrics\":\"Hello, it\\'s me\\\\r\\\\nI was wondering if after all these years you\\'d like to meet\\\\r\\\\nTo go over everything\\\\r\\\\nThey say that time\\'s supposed to heal ya\\\\r\\\\nBut I ain\\'t done much healing\\\\n\\\\nHello, can you hear me?\\\\n\\\\nI\\'m in California dreaming about who we used to be\\\\n\\\\nWhen we were younger and free\\\\n\\\\nI\\'ve forgotten how it felt before the world fell at our feet\\\\n\\\\n\\\\n\\\\nThere\\'s such a difference between us\\\\n\\\\nAnd a million miles\\\\n\\\\n\\\\n\\\\nHello from the other side\\\\n\\\\nI must\\'ve called a thousand times \\\\n\\\\nTo tell you I\\'m sorry\\\\n\\\\nFor everything that I\\'ve done\\\\n\\\\nBut when I call you never \\\\n\\\\nSeem to be home\\\\n\\\\n\\\\n\\\\nHello from the outside\\\\n\\\\nAt least I can say that I\\'ve tried \\\\n\\\\nTo tell you I\\'m sorry\\\\n\\\\nFor breaking your heart\\\\n\\\\nBut it don\\'t matter, it clearly \\\\n\\\\nDoesn\\'t tear you apart anymore\\\\n\\\\n\\\\n\\\\nHello, how are you?\\\\n\\\\nIt\\'s so typical of me to talk about myself, I\\'m sorry \\\\n\\\\nI hope that you\\'re well\\\\n\\\\nDid you ever make it out of that town\\\\n\\\\nWhere nothing ever happened?\\\\n\\\\n\\\\n\\\\nIt\\'s no secret\\\\n\\\\nThat the both of us \\\\n\\\\nAre running out of time\\\\n\\\\n\\\\n\\\\nSo hello from the other side (other side)\\\\n\\\\nI must\\'ve called a thousand times (thousand times)\\\\n\\\\nTo tell you I\\'m sorry\\\\n\\\\nFor everything that I\\'ve done\\\\n\\\\nBut when I call you never \\\\n\\\\nSeem to be home\\\\n\\\\n\\\\n\\\\nHello from the outside (outside)\\\\n\\\\nAt least I can say that I\\'ve tried (I\\'ve tried)\\\\n\\\\nTo tell you I\\'m sorry\\\\n\\\\nFor breaking your heart\\\\n\\\\nBut it don\\'t matter, it clearly \\\\n\\\\nDoesn\\'t tear you apart anymore\\\\n\\\\n\\\\n\\\\nOoooohh, anymore\\\\n\\\\nOoooohh, anymore\\\\n\\\\nOoooohh, anymore\\\\n\\\\nAnymore\\\\n\\\\n\\\\n\\\\nHello from the other side (other side)\\\\n\\\\nI must\\'ve called a thousand times (thousand times)\\\\n\\\\nTo tell you I\\'m sorry\\\\n\\\\nFor everything that I\\'ve done\\\\n\\\\nBut when I call you never \\\\n\\\\nSeem to be home\\\\n\\\\n\\\\n\\\\nHello from the outside (outside)\\\\n\\\\nAt least I can say that I\\'ve tried (I\\'ve tried)\\\\n\\\\nTo tell you I\\'m sorry\\\\n\\\\nFor breaking your heart\\\\n\\\\nBut it don\\'t matter, it clearly \\\\n\\\\nDoesn\\'t tear you apart anymore\"}'"
      ]
     },
     "execution_count": 9,
     "metadata": {},
     "output_type": "execute_result"
    }
   ],
   "source": [
    "response.content"
   ]
  },
  {
   "cell_type": "markdown",
   "metadata": {},
   "source": [
    "## Exploring the Currency Exchange API\n",
    "\n",
    "We can can learn how to consume this API by exploring it's documentaion at: [https://frankfurter.dev/](https://frankfurter.dev/) "
   ]
  },
  {
   "cell_type": "code",
   "execution_count": 10,
   "metadata": {},
   "outputs": [],
   "source": [
    "r2 = requests.get(\"https://cdn.jsdelivr.net/npm/@fawazahmed0/currency-api@latest/v1/currencies.json\")"
   ]
  },
  {
   "cell_type": "code",
   "execution_count": 11,
   "metadata": {},
   "outputs": [],
   "source": [
    "data = r2.json()"
   ]
  },
  {
   "cell_type": "code",
   "execution_count": 12,
   "metadata": {},
   "outputs": [],
   "source": [
    "r3 = requests.get(\"https://api.frankfurter.app/latest?base=USD\")"
   ]
  },
  {
   "cell_type": "code",
   "execution_count": 13,
   "metadata": {},
   "outputs": [
    {
     "data": {
      "text/plain": [
       "<Response [200]>"
      ]
     },
     "execution_count": 13,
     "metadata": {},
     "output_type": "execute_result"
    }
   ],
   "source": [
    "r3"
   ]
  },
  {
   "cell_type": "code",
   "execution_count": 14,
   "metadata": {},
   "outputs": [],
   "source": [
    "d = r3.json()"
   ]
  },
  {
   "cell_type": "code",
   "execution_count": 15,
   "metadata": {},
   "outputs": [
    {
     "data": {
      "text/plain": [
       "18.3418"
      ]
     },
     "execution_count": 15,
     "metadata": {},
     "output_type": "execute_result"
    }
   ],
   "source": [
    "20*d['rates']['EUR']"
   ]
  },
  {
   "cell_type": "code",
   "execution_count": 16,
   "metadata": {},
   "outputs": [
    {
     "name": "stdout",
     "output_type": "stream",
     "text": [
      "Select a currency to convert from:\n",
      "AUD : Australian Dollar\n",
      "BGN : Bulgarian Lev\n",
      "BRL : Brazilian Real\n",
      "CAD : Canadian Dollar\n",
      "CHF : Swiss Franc\n",
      "CNY : Chinese Renminbi Yuan\n",
      "CZK : Czech Koruna\n",
      "DKK : Danish Krone\n",
      "EUR : Euro\n",
      "GBP : British Pound\n",
      "HKD : Hong Kong Dollar\n",
      "HUF : Hungarian Forint\n",
      "IDR : Indonesian Rupiah\n",
      "ILS : Israeli New Sheqel\n",
      "INR : Indian Rupee\n",
      "ISK : Icelandic Króna\n",
      "JPY : Japanese Yen\n",
      "KRW : South Korean Won\n",
      "MXN : Mexican Peso\n",
      "MYR : Malaysian Ringgit\n",
      "NOK : Norwegian Krone\n",
      "NZD : New Zealand Dollar\n",
      "PHP : Philippine Peso\n",
      "PLN : Polish Złoty\n",
      "RON : Romanian Leu\n",
      "SEK : Swedish Krona\n",
      "SGD : Singapore Dollar\n",
      "THB : Thai Baht\n",
      "TRY : Turkish Lira\n",
      "USD : United States Dollar\n",
      "ZAR : South African Rand\n",
      "18.3418\n"
     ]
    }
   ],
   "source": [
    "def currencyExchange(Cfrom:str, Cto:str, ammount:float):\n",
    "\n",
    "    try:\n",
    "        req = requests.get(f\"https://api.frankfurter.app/latest?base={Cfrom}\")\n",
    "    except:\n",
    "        return \"Error, Request wasn't sent\"\n",
    "    \n",
    "    if req.status_code >= 200 and req.status_code < 300:\n",
    "        data = req.json()\n",
    "        return ammount*data['rates'][Cto]\n",
    "    else:\n",
    "        if req.status_code >= 400 and req.status_code < 500:\n",
    "            return \"Server Error\"\n",
    "        if req.status_code >= 500:\n",
    "            return \"Request isn't formatted properly\"\n",
    "\n",
    "r = requests.get(\"https://api.frankfurter.app/currencies\")\n",
    "\n",
    "data = r.json()\n",
    "\n",
    "print(\"Select a currency to convert from:\")\n",
    "for i,v in data.items():\n",
    "    print(i, \":\", v)\n",
    "\n",
    "Cfrom = input(\"Insert currency code:\")\n",
    "Cto = input(\"Insert currency code:\")\n",
    "\n",
    "amount = float(input(\"Enter amount to Exchange:\"))\n",
    "\n",
    "print(currencyExchange(Cfrom,Cto,amount))"
   ]
  },
  {
   "cell_type": "markdown",
   "metadata": {},
   "source": [
    "## Final Step, Explore other API's on your own\n",
    "\n",
    "**Here are some resources with open APIs to concume:**\n",
    "\n",
    "Public API repo on github:\n",
    "\n",
    "[https://github.com/public-apis/public-apis?tab=readme-ov-file#currency-exchange](https://github.com/public-apis/public-apis?tab=readme-ov-file#currency-exchange)\n",
    "\n",
    "Other Resources:\n",
    "\n",
    "[https://mixedanalytics.com/blog/list-actually-free-open-no-auth-needed-apis/](https://mixedanalytics.com/blog/list-actually-free-open-no-auth-needed-apis/)\n",
    "\n",
    "[https://www.freepublicapis.com/tags/noerror](https://www.freepublicapis.com/tags/noerror)\n",
    "\n",
    "[https://publicapis.dev/](https://publicapis.dev/)\n",
    "\n",
    "[https://publicapis.io/](https://publicapis.io/)"
   ]
  }
 ],
 "metadata": {
  "kernelspec": {
   "display_name": "PYCourse",
   "language": "python",
   "name": "python3"
  },
  "language_info": {
   "codemirror_mode": {
    "name": "ipython",
    "version": 3
   },
   "file_extension": ".py",
   "mimetype": "text/x-python",
   "name": "python",
   "nbconvert_exporter": "python",
   "pygments_lexer": "ipython3",
   "version": "3.11.9"
  }
 },
 "nbformat": 4,
 "nbformat_minor": 2
}
