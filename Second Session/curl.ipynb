{
 "cells": [
  {
   "cell_type": "code",
   "execution_count": 1,
   "metadata": {},
   "outputs": [],
   "source": [
    "from curl_cffi import requests"
   ]
  },
  {
   "cell_type": "code",
   "execution_count": null,
   "metadata": {},
   "outputs": [],
   "source": [
    "r = requests.get(\"https://www.adidas.co.uk/plp-app/api/search?q=tshirt\", impersonate='chrome123')"
   ]
  },
  {
   "cell_type": "code",
   "execution_count": 9,
   "metadata": {},
   "outputs": [
    {
     "data": {
      "text/plain": [
       "<Response [200]>"
      ]
     },
     "execution_count": 9,
     "metadata": {},
     "output_type": "execute_result"
    }
   ],
   "source": [
    "r"
   ]
  },
  {
   "cell_type": "code",
   "execution_count": 12,
   "metadata": {},
   "outputs": [],
   "source": [
    "data = r.json()"
   ]
  },
  {
   "cell_type": "code",
   "execution_count": 14,
   "metadata": {},
   "outputs": [],
   "source": [
    "ids = []\n",
    "for i in data['products']:\n",
    "    ids.append(i['id'])"
   ]
  },
  {
   "cell_type": "code",
   "execution_count": 16,
   "metadata": {},
   "outputs": [
    {
     "data": {
      "text/plain": [
       "['IC7441',\n",
       " 'IY0045',\n",
       " 'IC7438',\n",
       " 'IR8114',\n",
       " 'IA4850',\n",
       " 'IX5154',\n",
       " 'IY7247',\n",
       " 'HR6330',\n",
       " 'IC9282',\n",
       " 'IA4846',\n",
       " 'IB8150',\n",
       " 'IA4845',\n",
       " 'JN2777',\n",
       " 'IY8720',\n",
       " 'IM7921',\n",
       " 'IZ2527',\n",
       " 'IN1500',\n",
       " 'JV5865',\n",
       " 'IV5406',\n",
       " 'IC9334',\n",
       " 'IW3328',\n",
       " 'IZ2369',\n",
       " 'HY3404',\n",
       " 'IA4848',\n",
       " 'IC5538',\n",
       " 'FM0730',\n",
       " 'HC4533',\n",
       " 'HL1622',\n",
       " 'GK9120',\n",
       " 'IJ7327',\n",
       " 'GK9122',\n",
       " 'HT3978',\n",
       " 'IS3816',\n",
       " 'IP1284',\n",
       " 'IR5761',\n",
       " 'IC9286',\n",
       " 'IW5787',\n",
       " 'HK0401',\n",
       " 'HK7306',\n",
       " 'GN3999',\n",
       " 'IJ6269',\n",
       " 'IZ3071',\n",
       " 'HR5783',\n",
       " 'IS2944',\n",
       " 'IZ2097',\n",
       " 'IW8478',\n",
       " 'IC9277',\n",
       " 'IW0184']"
      ]
     },
     "execution_count": 16,
     "metadata": {},
     "output_type": "execute_result"
    }
   ],
   "source": [
    "ids"
   ]
  },
  {
   "cell_type": "code",
   "execution_count": 22,
   "metadata": {},
   "outputs": [],
   "source": [
    "r = requests.get(\"https://www.adidas.co.uk/api/products/IA4850/availability\", impersonate='chrome123')"
   ]
  },
  {
   "cell_type": "code",
   "execution_count": 23,
   "metadata": {},
   "outputs": [
    {
     "data": {
      "text/plain": [
       "<Response [200]>"
      ]
     },
     "execution_count": 23,
     "metadata": {},
     "output_type": "execute_result"
    }
   ],
   "source": [
    "r"
   ]
  },
  {
   "cell_type": "code",
   "execution_count": 24,
   "metadata": {},
   "outputs": [
    {
     "name": "stdout",
     "output_type": "stream",
     "text": [
      "<Response [200]>\n",
      "item IC7441 is in stock\n",
      "<Response [200]>\n",
      "item IY0045 is in stock\n",
      "<Response [200]>\n",
      "item IC7438 is in stock\n",
      "<Response [200]>\n",
      "item IR8114 is in stock\n",
      "<Response [200]>\n",
      "item IA4850 is in stock\n"
     ]
    }
   ],
   "source": [
    "for id in ids[:5]:\n",
    "    url = f\"https://www.adidas.co.uk/api/products/{id}/availability\"\n",
    "    r = requests.get(url, impersonate='chrome123')\n",
    "    print(r)\n",
    "    data = r.json()\n",
    "    if data[\"availability_status\"] == \"IN_STOCK\":\n",
    "        print(\"item\", id, \"is in stock\")\n",
    "    else:\n",
    "        print(\"item not in stock\")"
   ]
  },
  {
   "cell_type": "code",
   "execution_count": null,
   "metadata": {},
   "outputs": [],
   "source": []
  }
 ],
 "metadata": {
  "kernelspec": {
   "display_name": "PYCourse",
   "language": "python",
   "name": "python3"
  },
  "language_info": {
   "codemirror_mode": {
    "name": "ipython",
    "version": 3
   },
   "file_extension": ".py",
   "mimetype": "text/x-python",
   "name": "python",
   "nbconvert_exporter": "python",
   "pygments_lexer": "ipython3",
   "version": "3.11.9"
  }
 },
 "nbformat": 4,
 "nbformat_minor": 2
}
